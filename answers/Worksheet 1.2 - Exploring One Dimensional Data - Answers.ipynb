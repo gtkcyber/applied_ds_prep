{
 "cells": [
  {
   "cell_type": "markdown",
   "metadata": {},
   "source": [
    "<img src=\"../img/GTK_Logo_Social Icon.jpg\" width=175 align=\"right\" />\n",
    "\n",
    "# Worksheet 1.2:  Exploring One Dimensional Data - Answers\n",
    "This worksheet covers concepts covered in the first half of Module 1 - Exploratory Data Analysis in One Dimension.  It should take no more than 20-30 minutes to complete.  Please raise your hand if you get stuck.  \n",
    "\n",
    "There are many ways to accomplish the tasks that you are presented with, however you will find that by using the techniques covered in class, the exercises should be relatively simple. \n",
    "\n",
    "## Import the Libraries\n",
    "For this exercise, we will be using:\n",
    "* Pandas (http://pandas.pydata.org/pandas-docs/stable/)\n",
    "* Numpy (https://docs.scipy.org/doc/numpy/reference/)\n",
    "* Matplotlib (http://matplotlib.org/api/pyplot_api.html)\n"
   ]
  },
  {
   "cell_type": "code",
   "execution_count": 15,
   "metadata": {
    "ExecuteTime": {
     "end_time": "2020-12-07T14:04:42.037360Z",
     "start_time": "2020-12-07T14:04:40.814186Z"
    }
   },
   "outputs": [
    {
     "name": "stdout",
     "output_type": "stream",
     "text": [
      "Populating the interactive namespace from numpy and matplotlib\n"
     ]
    }
   ],
   "source": [
    "import pandas as pd\n",
    "import numpy as np\n",
    "import matplotlib.pyplot as plt\n",
    "plt.style.use('ggplot')\n",
    "%pylab inline"
   ]
  },
  {
   "cell_type": "markdown",
   "metadata": {},
   "source": [
    "## Exercise 1: Summarize the Data\n",
    "For this exercise, you are given a Series of random numbers creatively names `random_numbers`.  For the first exercise please do the following:\n",
    "\n",
    "1.  Remove all the numbers less than 10\n",
    "2.  Sort the series\n",
    "3.  Calculate the Tukey 5 number summary for this dataset\n",
    "4.  Count the number of even and odd numbers\n",
    "5.  Find the five largest and 5 smallest numbers in the series"
   ]
  },
  {
   "cell_type": "code",
   "execution_count": 16,
   "metadata": {
    "ExecuteTime": {
     "end_time": "2020-12-07T14:04:45.503186Z",
     "start_time": "2020-12-07T14:04:45.500008Z"
    }
   },
   "outputs": [],
   "source": [
    "#Generate a series of random numbers between 1 and 100. \n",
    "random_numbers = pd.Series( np.random.randint(1, 100, 50) )"
   ]
  },
  {
   "cell_type": "code",
   "execution_count": 17,
   "metadata": {
    "ExecuteTime": {
     "end_time": "2020-12-07T14:07:59.690995Z",
     "start_time": "2020-12-07T14:07:59.654790Z"
    }
   },
   "outputs": [
    {
     "name": "stdout",
     "output_type": "stream",
     "text": [
      "Even numbers: 19\n",
      "Odd numbers: 29\n",
      "Smallest Numbers:\n",
      "43    12\n",
      "0     15\n",
      "38    15\n",
      "47    16\n",
      "44    16\n",
      "dtype: int64\n",
      "Largest Numbers:\n",
      "20    89\n",
      "33    90\n",
      "31    92\n",
      "19    95\n",
      "40    98\n",
      "dtype: int64\n"
     ]
    },
    {
     "data": {
      "text/plain": [
       "count    48.000000\n",
       "mean     51.562500\n",
       "std      26.813704\n",
       "min      12.000000\n",
       "25%      27.000000\n",
       "50%      47.000000\n",
       "75%      77.000000\n",
       "max      98.000000\n",
       "dtype: float64"
      ]
     },
     "execution_count": 17,
     "metadata": {},
     "output_type": "execute_result"
    }
   ],
   "source": [
    "# Your code here... \n",
    "\n",
    "#Filter the Series\n",
    "random_numbers = random_numbers[random_numbers >= 10]\n",
    "\n",
    "#Sort the Series\n",
    "random_numbers.sort_values(inplace=True)\n",
    "\n",
    "\n",
    "\n",
    "#Count the number of even and odd numbers\n",
    "even_numbers = random_numbers[random_numbers % 2 == 0].count() \n",
    "odd_numbers = random_numbers[random_numbers % 2 != 0].count() \n",
    "print( \"Even numbers: \" + str(even_numbers))\n",
    "print( \"Odd numbers: \" + str(odd_numbers))\n",
    "\n",
    "#Find the five largest and smallest numbers\n",
    "print( \"Smallest Numbers:\")\n",
    "print( random_numbers.head(5))\n",
    "\n",
    "print( \"Largest Numbers:\")\n",
    "print( random_numbers.tail(5))\n",
    "#Calculate the Tukey 5 Number Summary\n",
    "random_numbers.describe()"
   ]
  },
  {
   "cell_type": "markdown",
   "metadata": {},
   "source": [
    "## Exercise 2: \n",
    "Using the random number Series create a histogram with 8 bins."
   ]
  },
  {
   "cell_type": "code",
   "execution_count": 18,
   "metadata": {
    "ExecuteTime": {
     "end_time": "2020-12-07T14:08:24.729189Z",
     "start_time": "2020-12-07T14:08:24.550415Z"
    }
   },
   "outputs": [
    {
     "data": {
      "text/plain": [
       "<AxesSubplot:>"
      ]
     },
     "execution_count": 18,
     "metadata": {},
     "output_type": "execute_result"
    },
    {
     "data": {
      "image/png": "[encoded data removed]",
      "text/plain": [
       "<Figure size 432x288 with 1 Axes>"
      ]
     },
     "metadata": {
      "needs_background": "light"
     },
     "output_type": "display_data"
    }
   ],
   "source": [
    "random_numbers.hist(bins=75)"
   ]
  },
  {
   "cell_type": "code",
   "execution_count": 19,
   "metadata": {},
   "outputs": [
    {
     "data": {
      "text/plain": [
       "<AxesSubplot:>"
      ]
     },
     "execution_count": 19,
     "metadata": {},
     "output_type": "execute_result"
    },
    {
     "data": {
      "image/png": "[encoded data removed]",
      "text/plain": [
       "<Figure size 432x288 with 1 Axes>"
      ]
     },
     "metadata": {
      "needs_background": "light"
     },
     "output_type": "display_data"
    }
   ],
   "source": [
    "random_numbers.plot(kind='box')"
   ]
  },
  {
   "cell_type": "markdown",
   "metadata": {},
   "source": [
    "## Exercise 3:\n",
    "You have been given a list of US phone numbers.  The area code is the first three digits.  Your task is to produce a summary of how many times each area code appears in the list. To do this you will need to:\n",
    "1. Extract the area code from each phone number\n",
    "2. Count the unique occurances."
   ]
  },
  {
   "cell_type": "code",
   "execution_count": 20,
   "metadata": {
    "ExecuteTime": {
     "end_time": "2020-12-07T14:09:47.332964Z",
     "start_time": "2020-12-07T14:09:47.328828Z"
    }
   },
   "outputs": [],
   "source": [
    "phone_numbers = [\n",
    "'(833) 759-6854',\n",
    "'(811) 268-9951',\n",
    "'(855) 449-4648',\n",
    "'(833) 212-2929',\n",
    "'(833) 893-7475',\n",
    "'(822) 346-3086',\n",
    "'(844) 259-9074',\n",
    "'(855) 975-8945',\n",
    "'(811) 385-8515',\n",
    "'(811) 523-5090',\n",
    "'(844) 593-5677',\n",
    "'(833) 534-5793',\n",
    "'(899) 898-3043',\n",
    "'(833) 662-7621',\n",
    "'(899) 146-8244',\n",
    "'(822) 793-4965',\n",
    "'(822) 641-7853',\n",
    "'(833) 153-7848',\n",
    "'(811) 958-2930',\n",
    "'(822) 332-3070',\n",
    "'(833) 223-1776',\n",
    "'(811) 397-1451',\n",
    "'(844) 096-0377',\n",
    "'(822) 000-0717',\n",
    "'(899) 311-1880']"
   ]
  },
  {
   "cell_type": "code",
   "execution_count": 21,
   "metadata": {
    "ExecuteTime": {
     "end_time": "2020-12-07T14:09:48.176525Z",
     "start_time": "2020-12-07T14:09:48.171545Z"
    }
   },
   "outputs": [],
   "source": [
    "phone_number_series = pd.Series(phone_numbers)\n",
    "area_codes = phone_number_series.str.slice(1,4)\n",
    "area_codes2 = phone_number_series.str.extract( '\\((\\d{3})\\)', expand=False)\n",
    "area_codes3 = phone_number_series.str.split(')').str[0].str.replace('(','')"
   ]
  },
  {
   "cell_type": "code",
   "execution_count": 22,
   "metadata": {
    "ExecuteTime": {
     "end_time": "2020-12-07T14:09:50.815352Z",
     "start_time": "2020-12-07T14:09:50.808908Z"
    }
   },
   "outputs": [
    {
     "data": {
      "text/plain": [
       "833    7\n",
       "811    5\n",
       "822    5\n",
       "899    3\n",
       "844    3\n",
       "855    2\n",
       "dtype: int64"
      ]
     },
     "execution_count": 22,
     "metadata": {},
     "output_type": "execute_result"
    }
   ],
   "source": [
    "area_codes.value_counts()"
   ]
  },
  {
   "cell_type": "code",
   "execution_count": 23,
   "metadata": {
    "ExecuteTime": {
     "end_time": "2020-12-07T14:09:51.562942Z",
     "start_time": "2020-12-07T14:09:51.557259Z"
    }
   },
   "outputs": [
    {
     "data": {
      "text/plain": [
       "833    7\n",
       "811    5\n",
       "822    5\n",
       "899    3\n",
       "844    3\n",
       "855    2\n",
       "dtype: int64"
      ]
     },
     "execution_count": 23,
     "metadata": {},
     "output_type": "execute_result"
    }
   ],
   "source": [
    "area_codes2.value_counts()"
   ]
  },
  {
   "cell_type": "code",
   "execution_count": 24,
   "metadata": {
    "ExecuteTime": {
     "end_time": "2020-12-07T14:09:52.110025Z",
     "start_time": "2020-12-07T14:09:52.104971Z"
    }
   },
   "outputs": [
    {
     "data": {
      "text/plain": [
       "<AxesSubplot:>"
      ]
     },
     "execution_count": 24,
     "metadata": {},
     "output_type": "execute_result"
    },
    {
     "data": {
      "image/png": "[encoded data removed]",
      "text/plain": [
       "<Figure size 432x288 with 1 Axes>"
      ]
     },
     "metadata": {
      "needs_background": "light"
     },
     "output_type": "display_data"
    }
   ],
   "source": [
    "area_codes3.value_counts().plot(kind='box')"
   ]
  },
  {
   "cell_type": "code",
   "execution_count": 27,
   "metadata": {},
   "outputs": [
    {
     "data": {
      "text/plain": [
       "<AxesSubplot:>"
      ]
     },
     "execution_count": 27,
     "metadata": {},
     "output_type": "execute_result"
    },
    {
     "data": {
      "image/png": "[encoded data removed]",
      "text/plain": [
       "<Figure size 432x288 with 1 Axes>"
      ]
     },
     "metadata": {
      "needs_background": "light"
     },
     "output_type": "display_data"
    }
   ],
   "source": [
    "area_codes3.value_counts().hist(bins=40)"
   ]
  }
 ],
 "metadata": {
  "kernelspec": {
   "display_name": "Python 3",
   "language": "python",
   "name": "python3"
  },
  "language_info": {
   "codemirror_mode": {
    "name": "ipython",
    "version": 3
   },
   "file_extension": ".py",
   "mimetype": "text/x-python",
   "name": "python",
   "nbconvert_exporter": "python",
   "pygments_lexer": "ipython3",
   "version": "3.8.5"
  },
  "toc": {
   "base_numbering": 1,
   "nav_menu": {},
   "number_sections": false,
   "sideBar": false,
   "skip_h1_title": false,
   "title_cell": "Table of Contents",
   "title_sidebar": "Contents",
   "toc_cell": false,
   "toc_position": {},
   "toc_section_display": false,
   "toc_window_display": false
  },
  "varInspector": {
   "cols": {
    "lenName": 16,
    "lenType": 16,
    "lenVar": 40
   },
   "kernels_config": {
    "python": {
     "delete_cmd_postfix": "",
     "delete_cmd_prefix": "del ",
     "library": "var_list.py",
     "varRefreshCmd": "print(var_dic_list())"
    },
    "r": {
     "delete_cmd_postfix": ") ",
     "delete_cmd_prefix": "rm(",
     "library": "var_list.r",
     "varRefreshCmd": "cat(var_dic_list()) "
    }
   },
   "types_to_exclude": [
    "module",
    "function",
    "builtin_function_or_method",
    "instance",
    "_Feature"
   ],
   "window_display": false
  }
 },
 "nbformat": 4,
 "nbformat_minor": 4
}
